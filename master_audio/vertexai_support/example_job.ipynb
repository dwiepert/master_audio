{
 "cells": [
  {
   "attachments": {},
   "cell_type": "markdown",
   "metadata": {},
   "source": [
    "#  Vertex AI Job from local machine\n",
    "\n",
    "This tutorial will walk you through the process of creating a custom training job in AIF from your local machine. Google Cloud utilizes Docker, which is a containerization platform, to submit the training job.\n",
    "\n",
    "1. Authorize access to google cloud and docker images\n",
    "\n",
    "    `Before you can start creating a custom training job in AIF (Artificial Intelligence Framework), you need to authorize access to Google Cloud and Docker images`\n",
    "\n",
    "\n",
    "2. Build a docker image locally and push to AIF from google cloud\n",
    "\n",
    "    `In this step, you build a Docker image locally on your machine. A Docker image is a lightweight, standalone executable package that contains all the dependencies and configurations required to run your training job. You define the necessary dependencies and configurations in a Dockerfile. Once the Docker image is built, you push it to AIF in Google Cloud. This makes the image accessible for deployment and execution in the AIF environment.`\n",
    "\n",
    "\n",
    "3. Edit `example_config.json` file\n",
    "\n",
    "    `The example_config.json file contains the configuration settings for your custom training job. This file typically includes information such as Hardware specifications, the input data paths, model parameters, training hyperparameters, and output directories. You need to edit this file to specify the desired settings for your training job. By customizing the config.json file, you can tailor the training process according to your specific requirements.`\n",
    "\n",
    "\n",
    "4. Run training job with `example_config.json`\n",
    "\n",
    "    `Once you have completed the previous steps, you are ready to run the training job using the edited config.json file. This step involves executing a command that initiates the training process. The command or script reads the configuration settings from config.json and uses them to set up the training environment. The training job then starts, and you can monitor its progress and performance metrics.`"
   ]
  },
  {
   "attachments": {},
   "cell_type": "markdown",
   "metadata": {},
   "source": [
    "## 1. Authorize access to google cloud and docker images\n",
    "1.1. Two factor authentication to authorize access to project in AIF\n",
    "\n",
    "1.2. Authentication to configure docker to use the Google Container Registry"
   ]
  },
  {
   "attachments": {},
   "cell_type": "markdown",
   "metadata": {},
   "source": [
    "### 1.1 Two factor authentication to authorize access to AIF project"
   ]
  },
  {
   "cell_type": "code",
   "execution_count": null,
   "metadata": {
    "vscode": {
     "languageId": "shellscript"
    }
   },
   "outputs": [],
   "source": [
    "!gcloud auth login"
   ]
  },
  {
   "cell_type": "code",
   "execution_count": null,
   "metadata": {
    "vscode": {
     "languageId": "shellscript"
    }
   },
   "outputs": [],
   "source": [
    "!gcloud config set project PROJECT_NAME"
   ]
  },
  {
   "cell_type": "markdown",
   "metadata": {},
   "source": []
  },
  {
   "attachments": {},
   "cell_type": "markdown",
   "metadata": {},
   "source": [
    "### 1.2. Authentication to configure docker to use the Google Container Registry\n",
    "\n",
    "<font color='red'>Run the commands in the below cell on your terminal/cmd prompt</font>"
   ]
  },
  {
   "cell_type": "code",
   "execution_count": null,
   "metadata": {
    "vscode": {
     "languageId": "shellscript"
    }
   },
   "outputs": [],
   "source": [
    "# run these commands on your terminal window\n",
    "$ gcloud auth configure-docker us-central1-docker.pkg.dev\n",
    "$ gcloud auth configure-docker us.gcr.io"
   ]
  },
  {
   "attachments": {},
   "cell_type": "markdown",
   "metadata": {},
   "source": [
    "## 2. Build a docker image and push to AIF from google cloud\n",
    "\n",
    "To build a Docker image and push it to Google Cloud's AI Platform (AIF), you can follow these steps:\n",
    "\n",
    "2.0. Create a Dockerfile: \n",
    "    \n",
    "        Write a Dockerfile that specifies the necessary dependencies and configurations for your application.\n",
    "\n",
    "2.1. Build the Docker image locally\n",
    "\n",
    "        Use the Dockerfile to build the Docker image locally on your machine. You can do this by running the docker build command and providing a tag for the image.\n",
    "\n",
    "2.2. Running Docker Container Locally on the Docker Image\n",
    "\n",
    "        Before pushing the Docker image to AIF, make sure to run the Docker container based on the image in order to test and debug it.\n",
    "\n",
    "2.3. Tag the Docker image\n",
    "\n",
    "        Tag the Docker image with the registry name provided by Google Cloud. The registry name typically follows the format `us-central1-docker.pkg.dev/[PROJECT-ID]/[DATASET-ID]/[TARGET-IMAGE-NAME][:TAG]`\n",
    "\n",
    "2.4. Publish docker image to AI Factory Artifact Registry\n",
    "\n",
    "        Use the docker push command to push the Docker image to the Google Cloud registry. Make sure to use the tagged image name from Step 2.2"
   ]
  },
  {
   "attachments": {},
   "cell_type": "markdown",
   "metadata": {},
   "source": [
    "### 2.1. Build the docker image\n",
    "\n",
    "The following command allows you to build a Docker image locally on your machine based on the specifications defined in the Dockerfile.\n",
    "\n",
    "```\n",
    "docker build -t <LOCAL_IMAGE_NAME[:TAG]> .\n",
    "```\n",
    "\n",
    "<font color='green'>Please note the following points regarding the usage of `LOCAL_IMAGE_NAME[:TAG]`</font>:\n",
    "\n",
    "<ul>\n",
    "    <li> You can choose any name and tag for the <LOCAL_IMAGE_NAME[:TAG]> parameter. This is for local reference and helps you identify and manage your Docker images.</li>\n",
    "    <li> If you use an existing local image name and tag, the new Docker image will replace the previous one with the same name and tag. Be cautious when reusing image names and tags to avoid unintentionally overwriting existing images.</li>\n",
    "</ul>\n",
    "\n",
    "<font color='red'> Note: If you are building a local image from AIF, you will need to be connected to the VPN. Also, depending on how large the image is, this initial local build can take a long time (e.g., a 25GB image could take over 2 hours, so plan accordingly).</font>\n"
   ]
  },
  {
   "attachments": {},
   "cell_type": "markdown",
   "metadata": {},
   "source": [
    "### 2.2. Running Docker Container Locally on the Docker Image\n",
    "\n",
    "Below is the command to run the Docker container locally.\n",
    "\n",
    "```\n",
    "docker run <LOCAL_IMAGE_NAME[:TAG]> --user-arg1 user-arg1-value --user-arg2 user-arg2-value\n",
    "```\n",
    "\n",
    "<font color='green'>Note: The --user-arg* are optional</font>"
   ]
  },
  {
   "attachments": {},
   "cell_type": "markdown",
   "metadata": {},
   "source": [
    "#### <font color=\"red\"> Please note that the Docker container does not have access to Google Cloud authentication. However, when we submit a training job, we will gain access to Google Cloud resources.</font>\n",
    "\n",
    "\n",
    "If you still want to authenticate and run script locally please follow the `debug_tutorial.ipynb` notebook \n",
    "\n"
   ]
  },
  {
   "attachments": {},
   "cell_type": "markdown",
   "metadata": {},
   "source": [
    "### 2.3. Tag the Docker image\n",
    "\n",
    "Use the docker tag command to assign a specific tag to your Docker image. This tag helps identify and manage different versions or variations of the image.\n",
    "\n",
    "```\n",
    "docker tag -t <LOCAL_IMAGE_NAME[:TAG]> TARGET_IMAGE[:TAG]\n",
    "```\n",
    "\n",
    "<font color='green'>Please note the following points regarding the usage of `TARGET_IMAGE[:TAG]`</font>:\n",
    "\n",
    "<ul>\n",
    "    <li> It should be of the format <font color=\"green\">us-central1-docker.pkg.dev/[PROJECT-ID]/[DATASET-ID]/[REMOTE-IMAGE-NAME][:TAG]</font></li>\n",
    "    <li> Referring to [REMOTE-IMAGE-NAME][:TAG], it corresponds to the image name you wish to have in AIF. If you utilize an existing AIF image name and tag, the new Docker image will replace the previous one that shares the same name and tag. Exercise caution when reusing image names and tags to prevent unintended overwriting of existing images.</li>\n",
    "    <li> To enchance the organization of images on AIF, use the same `REMOTE-IMAGE-NAME` wherever possible to avoid having too many images, however use distincr TAG names to make sure you do not overwrite someone else's work. <font color=\"red\">Please take caution in this step so you don't accidentally overwrite someone else's Image</font>.\n",
    "</ul>"
   ]
  },
  {
   "attachments": {},
   "cell_type": "markdown",
   "metadata": {},
   "source": [
    "### 2.4. Push the Docker image to AIF\n",
    "\n",
    "<font color=\"red\">Note: when pushing the docker image to AIF, please double check your TARGET-IMAGE-NAME and TAG to make sure it is unique to you.</font>\n",
    "\n",
    "```\n",
    "docker push us-central1-docker.pkg.dev/[PROJECT-ID]/[DATASET-ID]/[TARGET-IMAGE-NAME][:TAG]\n",
    "```"
   ]
  },
  {
   "attachments": {},
   "cell_type": "markdown",
   "metadata": {},
   "source": [
    "### You can view the published image in `Artifact Registry` on AI Factory\n",
    "\n",
    "https://console.cloud.google.com/artifacts"
   ]
  },
  {
   "attachments": {},
   "cell_type": "markdown",
   "metadata": {},
   "source": [
    "## 3. Edit `config.json` \n",
    "\n",
    "Modify `imageUri` & `args` & `studySpec` accordingly\n",
    "\n",
    "Note:\n",
    "  <ul>\n",
    "  <li><font color=\"green\"> The args parameter is a list of command line arguments that can be passed to the script. </font></li>\n",
    " \n",
    "  <li><font color=\"green\">The imageUri refers to the Docker image (TARGET_IMAGE[:TAG]) that you pushed to AIF in step 2.3. Please make sure TARGET_IMAGE[:TAG] information in the config.json is the same as before </font></li>\n",
    "  </ul>\n"
   ]
  },
  {
   "attachments": {},
   "cell_type": "markdown",
   "metadata": {},
   "source": [
    "## 4. Run training job with `config.json`\n",
    "\n",
    "<font color=\"red\">Note: In the comand below, the --display-name can be anything you choose, as it is used for identification purposes. We would suggest including your lanid in the display name to differentiate which job is yours, that way when multiple jobs are running it is easy to differentiate yours from someone else's </font>"
   ]
  },
  {
   "attachments": {},
   "cell_type": "markdown",
   "metadata": {},
   "source": [
    "### 4.1. Run a single job"
   ]
  },
  {
   "cell_type": "code",
   "execution_count": null,
   "metadata": {
    "vscode": {
     "languageId": "shellscript"
    }
   },
   "outputs": [],
   "source": [
    "!gcloud ai custom-jobs create \\\n",
    "  --region=us-central1 \\\n",
    "  --config=example_config.json \\\n",
    "  --display-name=training_job_name"
   ]
  },
  {
   "attachments": {},
   "cell_type": "markdown",
   "metadata": {},
   "source": [
    "### 4.2 Run a hyperparameter tuning job"
   ]
  },
  {
   "cell_type": "code",
   "execution_count": null,
   "metadata": {
    "vscode": {
     "languageId": "shellscript"
    }
   },
   "outputs": [],
   "source": [
    "\n",
    "!gcloud ai hp-tuning-jobs create \\\n",
    "  --region=us-central1 \\\n",
    "  --display-name=training_job_name \\\n",
    "  --config=./example_config.json \\\n",
    "  --max-trial-count=13 \\\n",
    "  --parallel-trial-count=3"
   ]
  },
  {
   "attachments": {},
   "cell_type": "markdown",
   "metadata": {},
   "source": [
    "## Training job status"
   ]
  },
  {
   "attachments": {},
   "cell_type": "markdown",
   "metadata": {
    "vscode": {
     "languageId": "shellscript"
    }
   },
   "source": [
    "##### Please visit https://console.cloud.google.com/vertex-ai/training/hyperparameter-tuning-jobs to check the job status\n",
    "\n",
    "##### Also visit google cloud storage path to check if the model folder exists"
   ]
  }
 ],
 "metadata": {
  "kernelspec": {
   "display_name": "Python 3",
   "language": "python",
   "name": "python3"
  },
  "language_info": {
   "codemirror_mode": {
    "name": "ipython",
    "version": 3
   },
   "file_extension": ".py",
   "mimetype": "text/x-python",
   "name": "python",
   "nbconvert_exporter": "python",
   "pygments_lexer": "ipython3",
   "version": "3.10.9"
  },
  "orig_nbformat": 4
 },
 "nbformat": 4,
 "nbformat_minor": 2
}
